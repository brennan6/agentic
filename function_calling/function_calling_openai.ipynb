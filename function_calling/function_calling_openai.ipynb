{
 "cells": [
  {
   "cell_type": "code",
   "execution_count": 10,
   "metadata": {},
   "outputs": [],
   "source": [
    "import os\n",
    "from dotenv import load_dotenv\n",
    "\n",
    "load_dotenv()\n",
    "\n",
    "OPENAI_API_KEY = os.getenv(\"OPENAI_API_KEY\")"
   ]
  },
  {
   "cell_type": "code",
   "execution_count": 4,
   "metadata": {},
   "outputs": [],
   "source": [
    "# !pip3 install --quiet scipy tenacity tiktoken termcolor openai --quiet"
   ]
  },
  {
   "cell_type": "code",
   "execution_count": 11,
   "metadata": {},
   "outputs": [],
   "source": [
    "# Set up credentials:\n",
    "import json\n",
    "from openai import OpenAI\n",
    "from tenacity import retry, wait_random_exponential, stop_after_attempt\n",
    "from termcolor import colored\n",
    "\n",
    "GPT_MODEL = \"gpt-4o-mini\"\n",
    "client = OpenAI(api_key=OPENAI_API_KEY)"
   ]
  },
  {
   "cell_type": "code",
   "execution_count": 12,
   "metadata": {},
   "outputs": [
    {
     "name": "stdout",
     "output_type": "stream",
     "text": [
      "Machine learning (ML) is a subset of artificial intelligence (AI) that focuses on the development of algorithms and statistical models that enable computers to perform tasks without explicit programming. Instead of being programmed with specific instructions, machine learning systems learn from data, identify patterns, and make decisions or predictions based on that data.\n",
      "\n",
      "There are several key concepts in machine learning:\n",
      "\n",
      "1. **Supervised Learning**: Involves training a model on a labeled dataset, where the input data is paired with the correct output. The model learns to map inputs to the desired output by minimizing the error between its predictions and the actual labels.\n",
      "\n",
      "2. **Unsupervised Learning**: Involves training a model on data that does not have labeled responses. The system tries to identify patterns or group similar data points together without predefined classifications.\n",
      "\n",
      "3. **Reinforcement Learning**: A type of learning where an agent learns to make decisions by taking actions in an environment to maximize a cumulative reward. This process involves exploration and exploitation.\n",
      "\n",
      "4. **Deep Learning**: A specialized subset of machine learning that uses neural networks with many layers (deep neural networks) to model complex patterns in large datasets. It is particularly effective for tasks such as image and speech recognition.\n",
      "\n",
      "5. **Feature Engineering**: The process of selecting, modifying, or creating features (input variables) to improve the performance of a machine learning model.\n",
      "\n",
      "Machine learning is used in a wide range of applications, including image and speech recognition, natural language processing, recommendation systems, fraud detection, autonomous vehicles, and more. The field continues to evolve, driven by advances in algorithms, computing power, and the availability of large datasets.\n"
     ]
    }
   ],
   "source": [
    "# Example of a simple request:\n",
    "completion = client.chat.completions.create(\n",
    "  model=GPT_MODEL,\n",
    "  messages=[\n",
    "    {\"role\": \"user\", \"content\": \"What's machine learning?\"}\n",
    "  ]\n",
    ")\n",
    "print(completion.choices[0].message.content)"
   ]
  },
  {
   "cell_type": "code",
   "execution_count": 16,
   "metadata": {},
   "outputs": [],
   "source": [
    "# Helper function\n",
    "\n",
    "def chat_completion_request(client, messages, tools=None, tool_choice=None, model=GPT_MODEL):\n",
    "    try:\n",
    "        response = client.chat.completions.create(\n",
    "            model=model,\n",
    "            messages=messages,\n",
    "            tools=tools,\n",
    "            tool_choice=tool_choice,\n",
    "        )\n",
    "        return response\n",
    "    except Exception as e:\n",
    "        print(\"Unable to generate ChatCompletion response\")\n",
    "        print(f\"Exception: {e}\")\n",
    "        return e\n",
    "\n",
    "def create_message(role, content):\n",
    "    return {'role': role, 'content': content}"
   ]
  },
  {
   "cell_type": "code",
   "execution_count": 21,
   "metadata": {},
   "outputs": [],
   "source": [
    "# Specify the tools:\n",
    "tools = [\n",
    "    {\n",
    "        \"type\": \"function\",\n",
    "        \"function\": {\n",
    "            \"name\": \"get_current_weather\",\n",
    "            \"description\": \"Get the current weather\",\n",
    "            \"parameters\": {\n",
    "                \"type\": \"object\",\n",
    "                \"properties\": {\n",
    "                    \"location\": {\n",
    "                        \"type\": \"string\",\n",
    "                        \"description\": \"The city and state, e.g. San Francisco, CA\",\n",
    "                    },\n",
    "                    \"format\": {\n",
    "                        \"type\": \"string\",\n",
    "                        \"enum\": [\"celsius\", \"fahrenheit\"],\n",
    "                        \"description\": \"The temperature unit to use. Infer this from the users location.\",\n",
    "                    },\n",
    "                },\n",
    "                \"required\": [\"location\", \"format\"],\n",
    "            },\n",
    "        }\n",
    "    },\n",
    "    {\n",
    "        \"type\": \"function\",\n",
    "        \"function\": {\n",
    "            \"name\": \"get_n_day_weather_forecast\",\n",
    "            \"description\": \"Get an N-day weather forecast\",\n",
    "            \"parameters\": {\n",
    "                \"type\": \"object\",\n",
    "                \"properties\": {\n",
    "                    \"location\": {\n",
    "                        \"type\": \"string\",\n",
    "                        \"description\": \"The city and state, e.g. San Francisco, CA\",\n",
    "                    },\n",
    "                    \"format\": {\n",
    "                        \"type\": \"string\",\n",
    "                        \"enum\": [\"celsius\", \"fahrenheit\"],\n",
    "                        \"description\": \"The temperature unit to use. Infer this from the users location.\",\n",
    "                    },\n",
    "                    \"num_days\": {\n",
    "                        \"type\": \"integer\",\n",
    "                        \"description\": \"The number of days to forecast\",\n",
    "                    }\n",
    "                },\n",
    "                \"required\": [\"location\", \"format\", \"num_days\"]\n",
    "            },\n",
    "        }\n",
    "    },\n",
    "]"
   ]
  },
  {
   "cell_type": "code",
   "execution_count": 45,
   "metadata": {},
   "outputs": [],
   "source": [
    "import json\n",
    "\n",
    "def get_current_weather(location, format):\n",
    "    return \"Call successful from get_current_weather().\"\n",
    "\n",
    "\n",
    "def get_n_day_weather_forecast(location, format, num_days):\n",
    "    return \"Call successful from get_n_day_weather_forecast()\"\n",
    "\n",
    "\n",
    "def execute_function_call(message):\n",
    "    args = json.loads(message.tool_calls[0].function.arguments)\n",
    "    if message.tool_calls[0].function.name == \"get_current_weather\":\n",
    "        results = get_current_weather(args[\"location\"], args[\"format\"])\n",
    "    elif message.tool_calls[0].function.name == \"get_n_day_weather_forecast\":\n",
    "        results = get_n_day_weather_forecast(args[\"location\"], args[\"format\"], args[\"num_days\"])\n",
    "    else:\n",
    "        results = f\"Error: function {message.tool_calls[0].function.name} does not exist\"\n",
    "    return results"
   ]
  },
  {
   "cell_type": "code",
   "execution_count": 17,
   "metadata": {},
   "outputs": [],
   "source": [
    "# Define messages\n",
    "\n",
    "messages = []\n",
    "messages.append(\n",
    "    create_message(\n",
    "        \"system\",\n",
    "        \"Don't make assumptions about what values to plug into functions. Ask for clarification if a user request is ambiguous.\"\n",
    "    )\n",
    ")\n",
    "messages.append(create_message(\"user\", \"What's the weather like today?\"))"
   ]
  },
  {
   "cell_type": "code",
   "execution_count": 24,
   "metadata": {},
   "outputs": [
    {
     "name": "stdout",
     "output_type": "stream",
     "text": [
      "Choice(finish_reason='stop', index=0, logprobs=None, message=ChatCompletionMessage(content='Could you please provide me with your city and state so I can check the current weather for you?', refusal=None, role='assistant', function_call=None, tool_calls=None))\n"
     ]
    }
   ],
   "source": [
    "# Submit response\n",
    "\n",
    "chat_response = chat_completion_request(\n",
    "    client, messages, tools=tools\n",
    ")\n",
    "messages.append(chat_response.choices[0].message)\n",
    "print(chat_response.choices[0])"
   ]
  },
  {
   "cell_type": "code",
   "execution_count": 27,
   "metadata": {},
   "outputs": [],
   "source": [
    "# User replies with additional details:\n",
    "messages.append(\n",
    "    create_message(\n",
    "        \"user\",\n",
    "        \"I'm in San Francisco, CA\"\n",
    "    )\n",
    ")"
   ]
  },
  {
   "cell_type": "code",
   "execution_count": 30,
   "metadata": {},
   "outputs": [
    {
     "name": "stdout",
     "output_type": "stream",
     "text": [
      "Choice(finish_reason='stop', index=0, logprobs=None, message=ChatCompletionMessage(content='Do you prefer the temperature to be reported in Celsius or Fahrenheit?', refusal=None, role='assistant', function_call=None, tool_calls=None))\n"
     ]
    }
   ],
   "source": [
    "# The Model responds:\n",
    "chat_response = chat_completion_request(\n",
    "    client, messages, tools=tools\n",
    ")\n",
    "messages.append(chat_response.choices[0].message)\n",
    "print(chat_response.choices[0])"
   ]
  },
  {
   "cell_type": "code",
   "execution_count": 31,
   "metadata": {},
   "outputs": [],
   "source": [
    "# User replies with clarification:\n",
    "messages.append(\n",
    "    create_message(\n",
    "        \"user\",\n",
    "        \"In Fahrenheit please.\"\n",
    "    )\n",
    ")"
   ]
  },
  {
   "cell_type": "code",
   "execution_count": 32,
   "metadata": {},
   "outputs": [
    {
     "name": "stdout",
     "output_type": "stream",
     "text": [
      "Choice(finish_reason='tool_calls', index=0, logprobs=None, message=ChatCompletionMessage(content=None, refusal=None, role='assistant', function_call=None, tool_calls=[ChatCompletionMessageToolCall(id='call_Rmep9YN7JcBxSNp1nWvVrLoN', function=Function(arguments='{\"location\":\"San Francisco, CA\",\"format\":\"fahrenheit\"}', name='get_current_weather'), type='function')]))\n"
     ]
    }
   ],
   "source": [
    "# The Model responds:\n",
    "chat_response = chat_completion_request(\n",
    "    client, messages, tools=tools\n",
    ")\n",
    "messages.append(chat_response.choices[0].message)\n",
    "print(chat_response.choices[0])"
   ]
  },
  {
   "cell_type": "code",
   "execution_count": 48,
   "metadata": {},
   "outputs": [],
   "source": [
    "latest_response = chat_response.choices[0]\n",
    "\n",
    "if latest_response.finish_reason == \"tool_calls\":\n",
    "    latest_msg = latest_response.message\n",
    "    results = execute_function_call(latest_msg)\n",
    "    messages.append({\"role\": \"function\",\n",
    "                     \"tool_call_id\": latest_msg.tool_calls[0].id,\n",
    "                     \"name\": latest_msg.tool_calls[0].function.name,\n",
    "                     \"content\": results\n",
    "                     })"
   ]
  },
  {
   "cell_type": "code",
   "execution_count": 49,
   "metadata": {},
   "outputs": [
    {
     "data": {
      "text/plain": [
       "[{'role': 'system',\n",
       "  'content': \"Don't make assumptions about what values to plug into functions. Ask for clarification if a user request is ambiguous.\"},\n",
       " {'role': 'user', 'content': \"What's the weather like today?\"},\n",
       " ChatCompletionMessage(content='Could you please provide me with your city and state so I can check the current weather for you?', refusal=None, role='assistant', function_call=None, tool_calls=None),\n",
       " {'role': 'user', 'content': \"I'm in San Francisco, CA\"},\n",
       " ChatCompletionMessage(content='Do you prefer the temperature to be reported in Celsius or Fahrenheit?', refusal=None, role='assistant', function_call=None, tool_calls=None),\n",
       " {'role': 'user', 'content': 'In Fahrenheit please.'},\n",
       " ChatCompletionMessage(content=None, refusal=None, role='assistant', function_call=None, tool_calls=[ChatCompletionMessageToolCall(id='call_Rmep9YN7JcBxSNp1nWvVrLoN', function=Function(arguments='{\"location\":\"San Francisco, CA\",\"format\":\"fahrenheit\"}', name='get_current_weather'), type='function')]),\n",
       " {'role': 'function',\n",
       "  'tool_call_id': 'call_Rmep9YN7JcBxSNp1nWvVrLoN',\n",
       "  'name': 'get_current_weather',\n",
       "  'content': 'Call successful from get_current_weather().'}]"
      ]
     },
     "execution_count": 49,
     "metadata": {},
     "output_type": "execute_result"
    }
   ],
   "source": [
    "messages"
   ]
  }
 ],
 "metadata": {
  "kernelspec": {
   "display_name": "Python 3",
   "language": "python",
   "name": "python3"
  },
  "language_info": {
   "codemirror_mode": {
    "name": "ipython",
    "version": 3
   },
   "file_extension": ".py",
   "mimetype": "text/x-python",
   "name": "python",
   "nbconvert_exporter": "python",
   "pygments_lexer": "ipython3",
   "version": "3.11.9"
  }
 },
 "nbformat": 4,
 "nbformat_minor": 2
}
