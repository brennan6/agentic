{
 "cells": [
  {
   "cell_type": "code",
   "execution_count": 1,
   "metadata": {},
   "outputs": [],
   "source": [
    "import os\n",
    "from dotenv import load_dotenv\n",
    "\n",
    "load_dotenv()\n",
    "\n",
    "OPENAI_API_KEY = os.getenv(\"OPENAI_API_KEY\")"
   ]
  },
  {
   "cell_type": "code",
   "execution_count": 2,
   "metadata": {},
   "outputs": [],
   "source": [
    "# Set up credentials:\n",
    "import json\n",
    "from openai import OpenAI\n",
    "from tenacity import retry, wait_random_exponential, stop_after_attempt\n",
    "from termcolor import colored\n",
    "\n",
    "GPT_MODEL = \"gpt-4o-mini\"\n",
    "client = OpenAI(api_key=OPENAI_API_KEY)"
   ]
  },
  {
   "cell_type": "code",
   "execution_count": 3,
   "metadata": {},
   "outputs": [],
   "source": [
    "def chat_completion_request(client, messages, tools=None, tool_choice=None, model=GPT_MODEL):\n",
    "    try:\n",
    "        response = client.chat.completions.create(\n",
    "            model=model,\n",
    "            messages=messages,\n",
    "            tools=tools,\n",
    "            tool_choice=tool_choice,\n",
    "        )\n",
    "        return response\n",
    "    except Exception as e:\n",
    "        print(\"Unable to generate ChatCompletion response\")\n",
    "        print(f\"Exception: {e}\")\n",
    "        return e\n",
    "\n",
    "def create_message(role, content):\n",
    "    return {'role': role, 'content': content}"
   ]
  },
  {
   "cell_type": "code",
   "execution_count": 4,
   "metadata": {},
   "outputs": [],
   "source": [
    "tools = [\n",
    "    {\n",
    "        \"type\": \"function\",\n",
    "        \"function\": {\n",
    "            \"name\": \"get_win_rate\",\n",
    "            \"description\": \"Get the win rate over a time period. We define win rate as won deals divided by total deals.\",\n",
    "            \"parameters\": {\n",
    "                \"type\": \"object\",\n",
    "                \"properties\": {\n",
    "                    \"company_name\": {\n",
    "                        \"type\": \"string\",\n",
    "                        \"description\": \"The company that the user works for.\",\n",
    "                    },\n",
    "                    \"start_dt\": {\n",
    "                        \"type\": \"string\",\n",
    "                        \"description\": \"The start date of the date range for calculating win rate.\",\n",
    "                    },\n",
    "                    \"end_dt\": {\n",
    "                        \"type\": \"string\",\n",
    "                        \"description\": \"The end date of the date range for calculating win rate.\",\n",
    "                    },\n",
    "                },\n",
    "                \"required\": [\"company_name\", \"start_dt\", \"end_dt\"],\n",
    "            },\n",
    "        }\n",
    "    },\n",
    "]"
   ]
  },
  {
   "cell_type": "code",
   "execution_count": 5,
   "metadata": {},
   "outputs": [],
   "source": [
    "\n",
    "\n",
    "def get_win_rate(company_name, start_dt, end_dt):\n",
    "    return f\"Get the win rate for the company - {company_name}, from {start_dt} to {end_dt}!\"\n",
    "\n",
    "def execute_function_call(message):\n",
    "    args = json.loads(message.tool_calls[0].function.arguments)\n",
    "    if message.tool_calls[0].function.name == \"get_win_rate\":\n",
    "        results = get_win_rate(args[\"company_name\"], args[\"start_dt\"], args[\"end_dt\"] )\n",
    "    else:\n",
    "        results = f\"Error: function {message.tool_calls[0].function.name} does not exist\"\n",
    "    return results"
   ]
  },
  {
   "cell_type": "code",
   "execution_count": 6,
   "metadata": {},
   "outputs": [],
   "source": [
    "# Define messages\n",
    "\n",
    "messages = []\n",
    "messages.append(\n",
    "    create_message(\n",
    "        \"system\",\n",
    "        \"Don't make assumptions about what values to plug into functions. Ask for clarification if a user request is ambiguous.\"\n",
    "    )\n",
    ")\n",
    "messages.append(create_message(\"user\", \"What is my team's win rate?\"))"
   ]
  },
  {
   "cell_type": "code",
   "execution_count": 7,
   "metadata": {},
   "outputs": [
    {
     "name": "stdout",
     "output_type": "stream",
     "text": [
      "Choice(finish_reason='stop', index=0, logprobs=None, message=ChatCompletionMessage(content=\"Could you please provide me with your company's name and the date range for which you would like to calculate the win rate?\", refusal=None, role='assistant', function_call=None, tool_calls=None))\n"
     ]
    }
   ],
   "source": [
    "# Submit response\n",
    "\n",
    "chat_response = chat_completion_request(\n",
    "    client, messages, tools=tools\n",
    ")\n",
    "messages.append(chat_response.choices[0].message)\n",
    "print(chat_response.choices[0])"
   ]
  },
  {
   "cell_type": "code",
   "execution_count": 8,
   "metadata": {},
   "outputs": [],
   "source": [
    "# User replies with additional details:\n",
    "messages.append(\n",
    "    create_message(\n",
    "        \"user\",\n",
    "        \"Sure. I work for Twilio and let's calulate from the start of 2024 until the end of Q3.\"\n",
    "    )\n",
    ")"
   ]
  },
  {
   "cell_type": "code",
   "execution_count": 9,
   "metadata": {},
   "outputs": [
    {
     "name": "stdout",
     "output_type": "stream",
     "text": [
      "Choice(finish_reason='tool_calls', index=0, logprobs=None, message=ChatCompletionMessage(content=None, refusal=None, role='assistant', function_call=None, tool_calls=[ChatCompletionMessageToolCall(id='call_4zFuV5jIqksC8oKIC177M8df', function=Function(arguments='{\"company_name\": \"Twilio\", \"start_dt\": \"2024-01-01\", \"end_dt\": \"2024-09-30\"}', name='get_win_rate'), type='function')]))\n"
     ]
    }
   ],
   "source": [
    "# The Model responds:\n",
    "chat_response = chat_completion_request(\n",
    "    client, messages, tools=tools\n",
    ")\n",
    "messages.append(chat_response.choices[0].message)\n",
    "print(chat_response.choices[0])"
   ]
  },
  {
   "cell_type": "code",
   "execution_count": 10,
   "metadata": {},
   "outputs": [],
   "source": [
    "latest_response = chat_response.choices[0]\n",
    "\n",
    "if latest_response.finish_reason == \"tool_calls\":\n",
    "    latest_msg = latest_response.message\n",
    "    results = execute_function_call(latest_msg)\n",
    "    messages.append({\"role\": \"function\",\n",
    "                     \"tool_call_id\": latest_msg.tool_calls[0].id,\n",
    "                     \"name\": latest_msg.tool_calls[0].function.name,\n",
    "                     \"content\": results\n",
    "                     })"
   ]
  },
  {
   "cell_type": "code",
   "execution_count": 11,
   "metadata": {},
   "outputs": [
    {
     "data": {
      "text/plain": [
       "[{'role': 'system',\n",
       "  'content': \"Don't make assumptions about what values to plug into functions. Ask for clarification if a user request is ambiguous.\"},\n",
       " {'role': 'user', 'content': \"What is my team's win rate?\"},\n",
       " ChatCompletionMessage(content=\"Could you please provide me with your company's name and the date range for which you would like to calculate the win rate?\", refusal=None, role='assistant', function_call=None, tool_calls=None),\n",
       " {'role': 'user',\n",
       "  'content': \"Sure. I work for Twilio and let's calulate from the start of 2024 until the end of Q3.\"},\n",
       " ChatCompletionMessage(content=None, refusal=None, role='assistant', function_call=None, tool_calls=[ChatCompletionMessageToolCall(id='call_4zFuV5jIqksC8oKIC177M8df', function=Function(arguments='{\"company_name\": \"Twilio\", \"start_dt\": \"2024-01-01\", \"end_dt\": \"2024-09-30\"}', name='get_win_rate'), type='function')]),\n",
       " {'role': 'function',\n",
       "  'tool_call_id': 'call_4zFuV5jIqksC8oKIC177M8df',\n",
       "  'name': 'get_win_rate',\n",
       "  'content': 'Get the win rate for the company - Twilio, from 2024-01-01 to 2024-09-30!'}]"
      ]
     },
     "execution_count": 11,
     "metadata": {},
     "output_type": "execute_result"
    }
   ],
   "source": [
    "messages"
   ]
  },
  {
   "cell_type": "code",
   "execution_count": null,
   "metadata": {},
   "outputs": [],
   "source": []
  }
 ],
 "metadata": {
  "kernelspec": {
   "display_name": "Python 3",
   "language": "python",
   "name": "python3"
  },
  "language_info": {
   "codemirror_mode": {
    "name": "ipython",
    "version": 3
   },
   "file_extension": ".py",
   "mimetype": "text/x-python",
   "name": "python",
   "nbconvert_exporter": "python",
   "pygments_lexer": "ipython3",
   "version": "3.11.9"
  }
 },
 "nbformat": 4,
 "nbformat_minor": 2
}
