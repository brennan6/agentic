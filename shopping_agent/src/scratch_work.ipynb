{
 "cells": [
  {
   "cell_type": "code",
   "execution_count": 1,
   "metadata": {},
   "outputs": [],
   "source": [
    "from datetime import date\n",
    "from langchain_core.messages import HumanMessage\n",
    "from main import main\n",
    "from send_sms import send_text_message"
   ]
  },
  {
   "cell_type": "code",
   "execution_count": 5,
   "metadata": {},
   "outputs": [],
   "source": [
    "phone_number = \"+19493159785\"\n",
    "message = \"Hey dude. Hey brother\"\n"
   ]
  },
  {
   "cell_type": "code",
   "execution_count": 7,
   "metadata": {},
   "outputs": [
    {
     "name": "stdout",
     "output_type": "stream",
     "text": [
      "Message: Hey dude. Sah brother sent successfully!\n"
     ]
    }
   ],
   "source": [
    "from twilio.rest import Client\n",
    "account_sid = 'INSERT KEY HERE'\n",
    "auth_token = 'INSERT AUTH TOKEN'\n",
    "client = Client(account_sid, auth_token)\n",
    "client.messages.create(\n",
    "    to=phone_number,\n",
    "    from_='+18442606294',\n",
    "    body=message\n",
    ")\n",
    "print(f\"Message: {message} sent successfully!\")"
   ]
  },
  {
   "cell_type": "code",
   "execution_count": null,
   "metadata": {},
   "outputs": [],
   "source": [
    "\n",
    "phone_number = \"7193981469\"\n",
    "message = \"Hey dude. Sah brother\"\n",
    "send_text_message(phone_number, message)\n"
   ]
  },
  {
   "cell_type": "code",
   "execution_count": 2,
   "metadata": {},
   "outputs": [],
   "source": [
    "request = {\"item\": \"Atomic Bent 110 Skis 2024/2025\",\n",
    "            \"limit\": \"600\",\n",
    "            \"condition\": \"new\",\n",
    "            \"phone_number\": phone_number,\n",
    "            \"size\": \"180\",\n",
    "            \"profile\": \"adult\"} "
   ]
  },
  {
   "cell_type": "code",
   "execution_count": 3,
   "metadata": {},
   "outputs": [
    {
     "name": "stdout",
     "output_type": "stream",
     "text": [
      "Tool comparison price: 749\n",
      "Sent text to 867-5309.\n",
      "item='Atomic Bent 110 Skis 2024/2025' price='749.95' condition='new' source='https://www.sportsplusdenver.com/products/atomic-bent-110-skis-2025-180cm-64d04?srsltid=AfmBOoqG0u2CwRswcNQhcWT6xAQK6taevjzwXdlf-D5v8tJRCZFXrC07' output_payload_structure=\"data: {'item': 'The name of the product that was actually searched.', 'price': 'The price of the product searched.', 'condition': 'The condition of the item, new or used, that the price is associated with.', 'source': 'The url where the price associated with the searched product came from.'}\"\n"
     ]
    }
   ],
   "source": [
    "output = main(request)"
   ]
  },
  {
   "cell_type": "code",
   "execution_count": 4,
   "metadata": {},
   "outputs": [
    {
     "data": {
      "text/plain": [
       "{'messages': [HumanMessage(content=\"Today's date is 2025-02-06. Using the search tool that is provided, research the price of Atomic Bent 110 Skis 2024/2025 given its new. Your goal is to determine how this price compares to the price 800, which is the maximum price the user would buy this item for. If the researched price is less than the price 800 it is your job to notify the user of this using the notify tool by passing in 867-5309. Make sure that the product corresponds to both size - 180 and profile - adult of the user. Use the provided date to make sure your information is as up to date as possible. \\n            # REQUIREMENTS:\\n            - The name of the product researched.\\n            - The lowest price observed from research for this product given its new.\\n            - The condition of the product.\\n            - The source where the lowest price for Atomic Bent 110 Skis 2024/2025 can be found in new. This is the price you should compare with 800.\\n            - DO NOT use the notify tool unless you are positive that you have identified a price that is less than the price 800.\\n            - DO NOT use the notify tool more than once.\\n            # FINAL OUTPUT:\\n            - Structure the final output payload as a JSON object containing the item, lowest price, condition, and source.\\n            - Do not explain any of these fields.\", additional_kwargs={}, response_metadata={}, id='bb1f4406-c3b7-4693-8df0-408b6b18a492'),\n",
       "  AIMessage(content='', additional_kwargs={'tool_calls': [{'id': 'call_2wXov7KcR80zeZ5njUFSWd6E', 'function': {'arguments': '{\"query\":\"Atomic Bent 110 Skis 2024/2025 new 180 adult price\"}', 'name': 'tavily_search_results_json'}, 'type': 'function'}], 'refusal': None}, response_metadata={'token_usage': {'completion_tokens': 35, 'prompt_tokens': 392, 'total_tokens': 427, 'completion_tokens_details': {'reasoning_tokens': 0, 'audio_tokens': 0, 'accepted_prediction_tokens': 0, 'rejected_prediction_tokens': 0}, 'prompt_tokens_details': {'cached_tokens': 0, 'audio_tokens': 0}}, 'model_name': 'gpt-4o-mini-2024-07-18', 'system_fingerprint': 'fp_72ed7ab54c', 'finish_reason': 'tool_calls', 'logprobs': None}, id='run-01c02556-9fe9-4607-9b3c-032085200bf6-0', tool_calls=[{'name': 'tavily_search_results_json', 'args': {'query': 'Atomic Bent 110 Skis 2024/2025 new 180 adult price'}, 'id': 'call_2wXov7KcR80zeZ5njUFSWd6E', 'type': 'tool_call'}], usage_metadata={'input_tokens': 392, 'output_tokens': 35, 'total_tokens': 427, 'input_token_details': {'audio': 0, 'cache_read': 0}, 'output_token_details': {'audio': 0, 'reasoning': 0}}),\n",
       "  ToolMessage(content=\"[{'url': 'https://www.sportsplusdenver.com/products/atomic-bent-110-skis-2025-180cm-64d04?srsltid=AfmBOoqG0u2CwRswcNQhcWT6xAQK6taevjzwXdlf-D5v8tJRCZFXrC07', 'content': '... Atomic Bent 110 Skis 2025 - 180cm. Sale. Regular price $749.95. Size. 180cm. Condition. New. 180cm / New - $749.95 USD. Quantity. − +. Add to Cart.'}, {'url': 'https://www.powder7.com/Atomic-Bent-110-Skis-180cm-New-Flat-2025/for-sale', 'content': 'New 2025 Atomic Bent 110 Skis 180cm · $749.9517% off $900.00 · Also available in: 188cm 172cm 164cm · Trade-in your current skis, get an instant offer · In Stock &'}, {'url': 'https://skitownallstars.com/products/atomic-bent-110?srsltid=AfmBOoo2U7k_tIBIZUjWwcXM9RBQIBoFMofLYDNzAqEsurntwiG5EP4K', 'content': 'Regular price $749.95. 16 reviews. Size. 164. 172. 180. 188. 164 - Sold out - $749.95, 172 - $749.95, 180 - $749.95, 188 - $749.95. Size. 164. $749.95. 172.'}, {'url': 'https://www.coloradodiscountskis.com/store/Atomic_2025_Bent_110_Flt.html?srsltid=AfmBOorQzFnsbSp6Yuo0XihOT4UR5xuLccn6JL4lM5pSkMZv9QwEWlAN', 'content': 'Atomic 2025 Bent 110 Skis (Without Bindings / Flat) NEW !! 164,172,180cm. Be the first one to write a review. $749.00 Reg. Price $900.00 You Save'}]\", name='tavily_search_results_json', id='44355e49-21c1-49e3-b45d-11c4c23cfc1b', tool_call_id='call_2wXov7KcR80zeZ5njUFSWd6E'),\n",
       "  AIMessage(content='', additional_kwargs={'tool_calls': [{'id': 'call_QicP846UQIbU0K5SC5YR6sXJ', 'function': {'arguments': '{\"phone_number\":\"867-5309\",\"price\":749}', 'name': 'notify'}, 'type': 'function'}], 'refusal': None}, response_metadata={'token_usage': {'completion_tokens': 22, 'prompt_tokens': 934, 'total_tokens': 956, 'completion_tokens_details': {'reasoning_tokens': 0, 'audio_tokens': 0, 'accepted_prediction_tokens': 0, 'rejected_prediction_tokens': 0}, 'prompt_tokens_details': {'cached_tokens': 0, 'audio_tokens': 0}}, 'model_name': 'gpt-4o-mini-2024-07-18', 'system_fingerprint': 'fp_72ed7ab54c', 'finish_reason': 'tool_calls', 'logprobs': None}, id='run-c2e37158-bf4f-4b47-98aa-5cf8a6e1d424-0', tool_calls=[{'name': 'notify', 'args': {'phone_number': '867-5309', 'price': 749}, 'id': 'call_QicP846UQIbU0K5SC5YR6sXJ', 'type': 'tool_call'}], usage_metadata={'input_tokens': 934, 'output_tokens': 22, 'total_tokens': 956, 'input_token_details': {'audio': 0, 'cache_read': 0}, 'output_token_details': {'audio': 0, 'reasoning': 0}}),\n",
       "  ToolMessage(content='Sent text to 867-5309.', name='notify', id='3ec4341d-9f64-4a03-92a3-831b8ba916f3', tool_call_id='call_QicP846UQIbU0K5SC5YR6sXJ'),\n",
       "  AIMessage(content='{\"item\": \"Atomic Bent 110 Skis 2024/2025\", \"price\": \"749.95\", \"condition\": \"new\"}', additional_kwargs={}, response_metadata={}, id='42c8b20d-f602-4d73-8d0d-fb01dc0a2678')]}"
      ]
     },
     "execution_count": 4,
     "metadata": {},
     "output_type": "execute_result"
    }
   ],
   "source": [
    "output"
   ]
  },
  {
   "cell_type": "code",
   "execution_count": 5,
   "metadata": {},
   "outputs": [],
   "source": [
    "message = output[\"messages\"][3]"
   ]
  },
  {
   "cell_type": "code",
   "execution_count": 6,
   "metadata": {},
   "outputs": [],
   "source": [
    "tool = message.tool_calls[0] if message.tool_calls else None"
   ]
  },
  {
   "cell_type": "code",
   "execution_count": 7,
   "metadata": {},
   "outputs": [
    {
     "data": {
      "text/plain": [
       "[{'name': 'notify',\n",
       "  'args': {'phone_number': '867-5309', 'price': 749},\n",
       "  'id': 'call_QicP846UQIbU0K5SC5YR6sXJ',\n",
       "  'type': 'tool_call'}]"
      ]
     },
     "execution_count": 7,
     "metadata": {},
     "output_type": "execute_result"
    }
   ],
   "source": [
    "message.tool_calls"
   ]
  },
  {
   "cell_type": "code",
   "execution_count": 8,
   "metadata": {},
   "outputs": [
    {
     "data": {
      "text/plain": [
       "1"
      ]
     },
     "execution_count": 8,
     "metadata": {},
     "output_type": "execute_result"
    }
   ],
   "source": [
    "len(message.tool_calls)"
   ]
  },
  {
   "cell_type": "code",
   "execution_count": 9,
   "metadata": {},
   "outputs": [
    {
     "data": {
      "text/plain": [
       "'{\"item\": \"Atomic Bent 110 Skis 2024/2025\", \"price\": \"749.95\", \"condition\": \"new\"}'"
      ]
     },
     "execution_count": 9,
     "metadata": {},
     "output_type": "execute_result"
    }
   ],
   "source": [
    "final_response = output[\"messages\"][-1].content\n",
    "final_response"
   ]
  }
 ],
 "metadata": {
  "kernelspec": {
   "display_name": "Python 3",
   "language": "python",
   "name": "python3"
  },
  "language_info": {
   "codemirror_mode": {
    "name": "ipython",
    "version": 3
   },
   "file_extension": ".py",
   "mimetype": "text/x-python",
   "name": "python",
   "nbconvert_exporter": "python",
   "pygments_lexer": "ipython3",
   "version": "3.11.9"
  }
 },
 "nbformat": 4,
 "nbformat_minor": 2
}
