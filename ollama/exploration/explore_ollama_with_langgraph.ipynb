{
 "cells": [
  {
   "cell_type": "code",
   "execution_count": 11,
   "metadata": {},
   "outputs": [],
   "source": [
    "from langchain_openai import ChatOpenAI\n",
    "import ollama\n",
    "import os\n",
    "\n",
    "OLLAMA_BASE_URL = os.getenv(\"OLLAMA_BASE_URL\")"
   ]
  },
  {
   "cell_type": "code",
   "execution_count": 12,
   "metadata": {},
   "outputs": [],
   "source": [
    "### Ensure running OLLAMA via Terminal:"
   ]
  },
  {
   "cell_type": "code",
   "execution_count": 13,
   "metadata": {},
   "outputs": [],
   "source": [
    "model = \"llama3.2:latest\""
   ]
  },
  {
   "cell_type": "code",
   "execution_count": 14,
   "metadata": {},
   "outputs": [],
   "source": [
    "llm = ChatOpenAI(\n",
    "    api_key=\"ollama\",\n",
    "    model=model,\n",
    "    base_url=OLLAMA_BASE_URL,\n",
    ")"
   ]
  },
  {
   "cell_type": "code",
   "execution_count": 15,
   "metadata": {},
   "outputs": [
    {
     "data": {
      "text/plain": [
       "AIMessage(content='\"Texas Forever\" is a documentary film released in 2011, directed by Joshua Berson and written by Joshua Berson. The movie focuses on the life of John Tyree, not Riggins.\\n\\nHowever, I believe you might be referring to \"Fullmetal Alchemist: Brotherhood,\" which features a character named Riza Hawkeye\\'s friend, Colonel Roy Mustang\\'s, best friend Riza is indeed but that is not who you are looking for... Its actually Roy Mustang\\'s right hand Colonel and the one he had feelings for. He meets his demise with her in battle.\\n\\nThen I looked it up and found out its actually about Hestia\\'s \"friend\" from the show where \"Hestia\\'s friend and fellow soldier\", Edward Elric, has a character named Riza Hawkeye or more specifically Roy Mustangs  right hand Colonel who is indeed an alchemist.', additional_kwargs={'refusal': None}, response_metadata={'token_usage': {'completion_tokens': 180, 'prompt_tokens': 29, 'total_tokens': 209, 'completion_tokens_details': None, 'prompt_tokens_details': None}, 'model_name': 'llama3.2:latest', 'system_fingerprint': 'fp_ollama', 'finish_reason': 'stop', 'logprobs': None}, id='run-ad29894c-06ee-4b42-9633-c65c2707916f-0', usage_metadata={'input_tokens': 29, 'output_tokens': 180, 'total_tokens': 209, 'input_token_details': {}, 'output_token_details': {}})"
      ]
     },
     "execution_count": 15,
     "metadata": {},
     "output_type": "execute_result"
    }
   ],
   "source": [
    "llm.invoke(\"Texas Forever Riggins\")"
   ]
  }
 ],
 "metadata": {
  "kernelspec": {
   "display_name": "agentic_env",
   "language": "python",
   "name": "python3"
  },
  "language_info": {
   "codemirror_mode": {
    "name": "ipython",
    "version": 3
   },
   "file_extension": ".py",
   "mimetype": "text/x-python",
   "name": "python",
   "nbconvert_exporter": "python",
   "pygments_lexer": "ipython3",
   "version": "3.11.9"
  }
 },
 "nbformat": 4,
 "nbformat_minor": 2
}
