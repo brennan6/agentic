{
 "cells": [
  {
   "cell_type": "code",
   "execution_count": 10,
   "metadata": {},
   "outputs": [],
   "source": [
    "import ollama\n",
    "from letta_client import Letta "
   ]
  },
  {
   "cell_type": "code",
   "execution_count": 11,
   "metadata": {},
   "outputs": [],
   "source": [
    "model = \"llama3.2:latest\""
   ]
  },
  {
   "cell_type": "code",
   "execution_count": 12,
   "metadata": {},
   "outputs": [
    {
     "ename": "UnprocessableEntityError",
     "evalue": "status_code: 422, body: detail=[ValidationError(loc=['body', 'model'], msg='Value error, not enough values to unpack (expected 2, got 1)', type='value_error', input='llama3.2:latest', ctx={'error': {}}), ValidationError(loc=['body', 'embedding'], msg='Value error, not enough values to unpack (expected 2, got 1)', type='value_error', input='nomic-embed-text:latest', ctx={'error': {}})]",
     "output_type": "error",
     "traceback": [
      "\u001b[0;31m---------------------------------------------------------------------------\u001b[0m",
      "\u001b[0;31mUnprocessableEntityError\u001b[0m                  Traceback (most recent call last)",
      "Cell \u001b[0;32mIn[12], line 2\u001b[0m\n\u001b[1;32m      1\u001b[0m client \u001b[38;5;241m=\u001b[39m Letta(base_url\u001b[38;5;241m=\u001b[39m\u001b[38;5;124m\"\u001b[39m\u001b[38;5;124mhttp://localhost:8283\u001b[39m\u001b[38;5;124m\"\u001b[39m)\n\u001b[0;32m----> 2\u001b[0m ollama_agent \u001b[38;5;241m=\u001b[39m \u001b[43mclient\u001b[49m\u001b[38;5;241;43m.\u001b[39;49m\u001b[43magents\u001b[49m\u001b[38;5;241;43m.\u001b[39;49m\u001b[43mcreate\u001b[49m\u001b[43m(\u001b[49m\n\u001b[1;32m      3\u001b[0m \u001b[43m    \u001b[49m\u001b[43mmodel\u001b[49m\u001b[38;5;241;43m=\u001b[39;49m\u001b[43mmodel\u001b[49m\u001b[43m,\u001b[49m\n\u001b[1;32m      4\u001b[0m \u001b[43m    \u001b[49m\u001b[43membedding\u001b[49m\u001b[38;5;241;43m=\u001b[39;49m\u001b[38;5;124;43m\"\u001b[39;49m\u001b[38;5;124;43mnomic-embed-text:latest\u001b[39;49m\u001b[38;5;124;43m\"\u001b[39;49m\u001b[43m,\u001b[49m\n\u001b[1;32m      5\u001b[0m \u001b[43m)\u001b[49m\n",
      "File \u001b[0;32m~/Documents/projects/agentic/agentic_env/lib/python3.11/site-packages/letta_client/agents/client.py:403\u001b[0m, in \u001b[0;36mAgentsClient.create\u001b[0;34m(self, project, name, memory_blocks, tools, tool_ids, source_ids, block_ids, tool_rules, tags, system, agent_type, llm_config, embedding_config, initial_message_sequence, include_base_tools, include_multi_agent_tools, include_base_tool_rules, description, metadata, model, embedding, context_window_limit, embedding_chunk_size, from_template, template, create_agent_request_project, tool_exec_environment_variables, memory_variables, project_id, template_id, base_template_id, identity_ids, message_buffer_autoclear, request_options)\u001b[0m\n\u001b[1;32m    395\u001b[0m         \u001b[38;5;28;01mreturn\u001b[39;00m typing\u001b[38;5;241m.\u001b[39mcast(\n\u001b[1;32m    396\u001b[0m             AgentState,\n\u001b[1;32m    397\u001b[0m             construct_type(\n\u001b[0;32m   (...)\u001b[0m\n\u001b[1;32m    400\u001b[0m             ),\n\u001b[1;32m    401\u001b[0m         )\n\u001b[1;32m    402\u001b[0m     \u001b[38;5;28;01mif\u001b[39;00m _response\u001b[38;5;241m.\u001b[39mstatus_code \u001b[38;5;241m==\u001b[39m \u001b[38;5;241m422\u001b[39m:\n\u001b[0;32m--> 403\u001b[0m         \u001b[38;5;28;01mraise\u001b[39;00m UnprocessableEntityError(\n\u001b[1;32m    404\u001b[0m             typing\u001b[38;5;241m.\u001b[39mcast(\n\u001b[1;32m    405\u001b[0m                 HttpValidationError,\n\u001b[1;32m    406\u001b[0m                 construct_type(\n\u001b[1;32m    407\u001b[0m                     type_\u001b[38;5;241m=\u001b[39mHttpValidationError,  \u001b[38;5;66;03m# type: ignore\u001b[39;00m\n\u001b[1;32m    408\u001b[0m                     object_\u001b[38;5;241m=\u001b[39m_response\u001b[38;5;241m.\u001b[39mjson(),\n\u001b[1;32m    409\u001b[0m                 ),\n\u001b[1;32m    410\u001b[0m             )\n\u001b[1;32m    411\u001b[0m         )\n\u001b[1;32m    412\u001b[0m     _response_json \u001b[38;5;241m=\u001b[39m _response\u001b[38;5;241m.\u001b[39mjson()\n\u001b[1;32m    413\u001b[0m \u001b[38;5;28;01mexcept\u001b[39;00m JSONDecodeError:\n",
      "\u001b[0;31mUnprocessableEntityError\u001b[0m: status_code: 422, body: detail=[ValidationError(loc=['body', 'model'], msg='Value error, not enough values to unpack (expected 2, got 1)', type='value_error', input='llama3.2:latest', ctx={'error': {}}), ValidationError(loc=['body', 'embedding'], msg='Value error, not enough values to unpack (expected 2, got 1)', type='value_error', input='nomic-embed-text:latest', ctx={'error': {}})]"
     ]
    }
   ],
   "source": [
    "client = Letta(base_url=\"http://localhost:8283\")\n",
    "ollama_agent = client.agents.create(\n",
    "    model=model,\n",
    "    embedding=\"nomic-embed-text:latest\",\n",
    ")"
   ]
  },
  {
   "cell_type": "code",
   "execution_count": null,
   "metadata": {},
   "outputs": [],
   "source": []
  }
 ],
 "metadata": {
  "kernelspec": {
   "display_name": "agentic_env",
   "language": "python",
   "name": "python3"
  },
  "language_info": {
   "codemirror_mode": {
    "name": "ipython",
    "version": 3
   },
   "file_extension": ".py",
   "mimetype": "text/x-python",
   "name": "python",
   "nbconvert_exporter": "python",
   "pygments_lexer": "ipython3",
   "version": "3.11.9"
  }
 },
 "nbformat": 4,
 "nbformat_minor": 2
}
