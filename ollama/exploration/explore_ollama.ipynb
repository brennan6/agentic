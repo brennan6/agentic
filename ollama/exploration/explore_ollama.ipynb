{
 "cells": [
  {
   "cell_type": "code",
   "execution_count": 24,
   "metadata": {},
   "outputs": [],
   "source": [
    "import ollama"
   ]
  },
  {
   "cell_type": "code",
   "execution_count": 25,
   "metadata": {},
   "outputs": [],
   "source": [
    "model = \"deepseek-r1:8b\""
   ]
  },
  {
   "cell_type": "code",
   "execution_count": 26,
   "metadata": {},
   "outputs": [
    {
     "name": "stdout",
     "output_type": "stream",
     "text": [
      "<think>\n",
      "\n",
      "</think>\n",
      "\n",
      "The sky appears blue because of the scattering of light by molecules and tiny particles in the Earth's atmosphere. This phenomenon, known as Rayleigh scattering, happens when sunlight enters the atmosphere and interacts with these small particles, causing the blue wavelengths to scatter more effectively than other colors. The blue light that scatters into our eyes is what we perceive as the sky.\n"
     ]
    }
   ],
   "source": [
    "response = ollama.generate(model=model, prompt=\"Why is the sky blue?\")\n",
    "print(response['response'])"
   ]
  }
 ],
 "metadata": {
  "kernelspec": {
   "display_name": "agentic_env",
   "language": "python",
   "name": "python3"
  },
  "language_info": {
   "codemirror_mode": {
    "name": "ipython",
    "version": 3
   },
   "file_extension": ".py",
   "mimetype": "text/x-python",
   "name": "python",
   "nbconvert_exporter": "python",
   "pygments_lexer": "ipython3",
   "version": "3.11.9"
  }
 },
 "nbformat": 4,
 "nbformat_minor": 2
}
