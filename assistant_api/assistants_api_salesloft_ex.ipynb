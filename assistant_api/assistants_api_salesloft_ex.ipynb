{
 "cells": [
  {
   "cell_type": "code",
   "execution_count": 1,
   "metadata": {},
   "outputs": [],
   "source": [
    "import os\n",
    "from dotenv import load_dotenv\n",
    "\n",
    "load_dotenv()\n",
    "\n",
    "OPENAI_API_KEY = os.getenv(\"OPENAI_API_KEY\")"
   ]
  },
  {
   "cell_type": "code",
   "execution_count": 2,
   "metadata": {},
   "outputs": [],
   "source": [
    "from openai import OpenAI\n",
    "GPT_MODEL = \"gpt-4o-mini\"\n",
    "client = OpenAI(api_key=OPENAI_API_KEY)\n",
    "\n",
    "assistant = client.beta.assistants.create(\n",
    "  name=\"Deal Stats Expert\",\n",
    "  instructions=\"You are a deals and crm expert. When provided with information, please distribute the information to the correct tool. If clarifications are needed as far as inputs, please do so.\",\n",
    "  model=GPT_MODEL,\n",
    "  tools = [\n",
    "    {\n",
    "        \"type\": \"function\",\n",
    "        \"function\": {\n",
    "            \"name\": \"get_win_rate\",\n",
    "            \"description\": \"Get the win rate over a time period. We define win rate as won deals divided by total deals.\",\n",
    "            \"parameters\": {\n",
    "                \"type\": \"object\",\n",
    "                \"properties\": {\n",
    "                    \"company_name\": {\n",
    "                        \"type\": \"string\",\n",
    "                        \"description\": \"The company that the user works for.\",\n",
    "                    },\n",
    "                    \"start_dt\": {\n",
    "                        \"type\": \"string\",\n",
    "                        \"description\": \"The start date of the date range for calculating win rate.\",\n",
    "                    },\n",
    "                    \"end_dt\": {\n",
    "                        \"type\": \"string\",\n",
    "                        \"description\": \"The end date of the date range for calculating win rate.\",\n",
    "                    },\n",
    "                },\n",
    "                \"required\": [\"company_name\", \"start_dt\", \"end_dt\"],\n",
    "            },\n",
    "        }\n",
    "    },\n",
    "]\n",
    ")"
   ]
  },
  {
   "cell_type": "code",
   "execution_count": 3,
   "metadata": {},
   "outputs": [],
   "source": [
    "thread = client.beta.threads.create()"
   ]
  },
  {
   "cell_type": "code",
   "execution_count": 4,
   "metadata": {},
   "outputs": [],
   "source": [
    "message = client.beta.threads.messages.create(\n",
    "  thread_id=thread.id,\n",
    "  role=\"user\",\n",
    "  content=\"What is my win rate?\"\n",
    ")"
   ]
  },
  {
   "cell_type": "code",
   "execution_count": 5,
   "metadata": {},
   "outputs": [
    {
     "name": "stdout",
     "output_type": "stream",
     "text": [
      "\n",
      "assistant > Could you please provide the following details so I can calculate your win rate?\n",
      "\n",
      "1. Your company's name.\n",
      "2. The start date for the period you want to analyze.\n",
      "3. The end date for that period."
     ]
    }
   ],
   "source": [
    "from typing_extensions import override\n",
    "from openai import AssistantEventHandler\n",
    " \n",
    "class EventHandler(AssistantEventHandler):\n",
    "    @override\n",
    "    def on_event(self, event):\n",
    "      # Retrieve events that are denoted with 'requires_action'\n",
    "      # since these will have our tool_calls\n",
    "      if event.event == 'thread.run.requires_action':\n",
    "        run_id = event.data.id  # Retrieve the run ID from the event data\n",
    "        self.handle_requires_action(event.data, run_id)\n",
    " \n",
    "    def handle_requires_action(self, data, run_id):\n",
    "      tool_outputs = []\n",
    "        \n",
    "      for tool in data.required_action.submit_tool_outputs.tool_calls:\n",
    "        if tool.function.name == \"get_win_rate\":\n",
    "          tool_outputs.append({\"tool_call_id\": tool.id, \"output\": \".65\"})\n",
    "      # Submit all tool_outputs at the same time\n",
    "      self.submit_tool_outputs(tool_outputs, run_id)\n",
    " \n",
    "    def submit_tool_outputs(self, tool_outputs, run_id):\n",
    "      # Use the submit_tool_outputs_stream helper\n",
    "      with client.beta.threads.runs.submit_tool_outputs_stream(\n",
    "        thread_id=self.current_run.thread_id,\n",
    "        run_id=self.current_run.id,\n",
    "        tool_outputs=tool_outputs,\n",
    "        event_handler=EventHandler(),\n",
    "      ) as stream:\n",
    "        stream.until_done()\n",
    "        # for text in stream.text_deltas:\n",
    "        #   print(text, end=\"\", flush=True)\n",
    "        # print()\n",
    " \n",
    "    @override\n",
    "    def on_text_created(self, text) -> None:\n",
    "      print(f\"\\nassistant > \", end=\"\", flush=True)\n",
    "        \n",
    "    @override\n",
    "    def on_text_delta(self, delta, snapshot):\n",
    "      \"\"\"\n",
    "      Refers to any token creation essentially.\n",
    "      \"\"\"\n",
    "      print(delta.value, end=\"\", flush=True)\n",
    "        \n",
    "    def on_tool_call_created(self, tool_call):\n",
    "      print(f\"\\nassistant > {tool_call.type}\\n\", flush=True)\n",
    "    \n",
    "    def on_tool_call_delta(self, delta, snapshot):\n",
    "      if delta.type == 'code_interpreter':\n",
    "        if delta.code_interpreter.input:\n",
    "          print(delta.code_interpreter.input, end=\"\", flush=True)\n",
    "        if delta.code_interpreter.outputs:\n",
    "          print(f\"\\n\\noutput >\", flush=True)\n",
    "          for output in delta.code_interpreter.outputs:\n",
    "            if output.type == \"logs\":\n",
    "              print(f\"\\n{output.logs}\", flush=True)\n",
    "              \n",
    "with client.beta.threads.runs.stream(\n",
    "  thread_id=thread.id,\n",
    "  assistant_id=assistant.id,\n",
    "  event_handler=EventHandler()\n",
    ") as stream:\n",
    "  stream.until_done()"
   ]
  },
  {
   "cell_type": "code",
   "execution_count": 6,
   "metadata": {},
   "outputs": [],
   "source": [
    "message = client.beta.threads.messages.create(\n",
    "  thread_id=thread.id,\n",
    "  role=\"user\",\n",
    "  content=\"I work at Twilio, and I want from the start of this quarter to the end of this quarter.\"\n",
    ")"
   ]
  },
  {
   "cell_type": "code",
   "execution_count": 7,
   "metadata": {},
   "outputs": [
    {
     "name": "stdout",
     "output_type": "stream",
     "text": [
      "\n",
      "assistant > To determine the start and end dates for this quarter (Q4 2023), please confirm the following dates:\n",
      "\n",
      "- Start Date: October 1, 2023\n",
      "- End Date: December 31, 2023\n",
      "\n",
      "Shall I proceed with these dates?"
     ]
    }
   ],
   "source": [
    "with client.beta.threads.runs.stream(\n",
    "  thread_id=thread.id,\n",
    "  assistant_id=assistant.id,\n",
    "  event_handler=EventHandler()\n",
    ") as stream:\n",
    "  stream.until_done()"
   ]
  },
  {
   "cell_type": "code",
   "execution_count": 8,
   "metadata": {},
   "outputs": [],
   "source": [
    "message = client.beta.threads.messages.create(\n",
    "  thread_id=thread.id,\n",
    "  role=\"user\",\n",
    "  content=\"Yes.\"\n",
    ")"
   ]
  },
  {
   "cell_type": "code",
   "execution_count": 9,
   "metadata": {},
   "outputs": [
    {
     "name": "stdout",
     "output_type": "stream",
     "text": [
      "\n",
      "assistant > function\n",
      "\n",
      "\n",
      "assistant > Your win rate for Twilio from October 1, 2023, to December 31, 2023, is 65%."
     ]
    }
   ],
   "source": [
    "with client.beta.threads.runs.stream(\n",
    "  thread_id=thread.id,\n",
    "  assistant_id=assistant.id,\n",
    "  event_handler=EventHandler()\n",
    ") as stream:\n",
    "  stream.until_done()"
   ]
  },
  {
   "cell_type": "code",
   "execution_count": 11,
   "metadata": {},
   "outputs": [
    {
     "name": "stdout",
     "output_type": "stream",
     "text": [
      "[TextContentBlock(text=Text(annotations=[], value='Your win rate for Twilio from October 1, 2023, to December 31, 2023, is 65%.'), type='text')]\n",
      "[TextContentBlock(text=Text(annotations=[], value='Yes.'), type='text')]\n",
      "[TextContentBlock(text=Text(annotations=[], value='To determine the start and end dates for this quarter (Q4 2023), please confirm the following dates:\\n\\n- Start Date: October 1, 2023\\n- End Date: December 31, 2023\\n\\nShall I proceed with these dates?'), type='text')]\n",
      "[TextContentBlock(text=Text(annotations=[], value='I work at Twilio, and I want from the start of this quarter to the end of this quarter.'), type='text')]\n",
      "[TextContentBlock(text=Text(annotations=[], value=\"Could you please provide the following details so I can calculate your win rate?\\n\\n1. Your company's name.\\n2. The start date for the period you want to analyze.\\n3. The end date for that period.\"), type='text')]\n",
      "[TextContentBlock(text=Text(annotations=[], value='What is my win rate?'), type='text')]\n"
     ]
    }
   ],
   "source": [
    "for message in client.beta.threads.messages.list(thread.id):\n",
    "    print(message.content)"
   ]
  }
 ],
 "metadata": {
  "kernelspec": {
   "display_name": "Python 3",
   "language": "python",
   "name": "python3"
  },
  "language_info": {
   "codemirror_mode": {
    "name": "ipython",
    "version": 3
   },
   "file_extension": ".py",
   "mimetype": "text/x-python",
   "name": "python",
   "nbconvert_exporter": "python",
   "pygments_lexer": "ipython3",
   "version": "3.11.9"
  }
 },
 "nbformat": 4,
 "nbformat_minor": 2
}
